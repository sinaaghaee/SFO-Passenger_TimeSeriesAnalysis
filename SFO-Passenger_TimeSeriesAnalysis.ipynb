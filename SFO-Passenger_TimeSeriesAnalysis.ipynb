{
 "cells": [
  {
   "cell_type": "markdown",
   "id": "3e0d23bd",
   "metadata": {},
   "source": [
    "<center>\n",
    "    <img src=\"https://github.com/sinaaghaee/ProcessMiningProject-CustomerBehaviorAnalysis/blob/main/Images/Sharif_Logo.png?raw=true\" width=\"250\"   />\n",
    "</center>"
   ]
  },
  {
   "cell_type": "markdown",
   "id": "22a8ce35",
   "metadata": {},
   "source": [
    "# Time Series Analysis Project - SFO Passengers"
   ]
  },
  {
   "cell_type": "markdown",
   "id": "4952fdff",
   "metadata": {},
   "source": [
    " ## Course Info:\n",
    " \n",
    " **Student/Analyst:**  Sina Aghaee <br>\n",
    " **Course:** Time Series Analysis and Forcasting 1399-1400 <br>\n",
    " **Institution:** Sharif University of Technology, Department of Industrial Engineering <br>\n",
    " **Instructor:**  Dr. Majid Khedmati \n"
   ]
  },
  {
   "cell_type": "markdown",
   "id": "01a4c34e",
   "metadata": {},
   "source": [
    "In this notebook, I will do a Time Series analysis and prediction of the monthly passengers landing at San Francisco International Airport.\n",
    "\n",
    "We will use use **R language** and **SFO passenger dataset** for our analysis. \n",
    "\n",
    "The sfo_passengers dataset provides monthly statistics about the air traffic passengers in San Francisco International Airport between July 2005 and September 2020. That includes monthly information on the total number of passengers arriving or departing from SFO by airline operator, geographic type (domestic and international), and region (e.g., US, Europe, Mexico, Asia)."
   ]
  },
  {
   "cell_type": "code",
   "execution_count": 47,
   "id": "0b453cf7",
   "metadata": {},
   "outputs": [],
   "source": [
    "# Turning off the warnings\n",
    "options(warn=-1)\n",
    "\n",
    "# Importing required libraries\n",
    "library(sfo)\n",
    "library(dplyr)\n",
    "library(plotly)\n",
    "library(TSstudio)\n",
    "library(forecast)\n",
    "library(uroot)\n",
    "library(tseries)\n",
    "library(lmtest)\n",
    "library(astsa)\n",
    "library(TSA)"
   ]
  },
  {
   "cell_type": "markdown",
   "id": "98fcdaa1",
   "metadata": {},
   "source": [
    "# 1. Loading the SFO-Passengers Data, Preprocessing and some descriptive analysis"
   ]
  },
  {
   "cell_type": "code",
   "execution_count": 3,
   "id": "81b7a32d",
   "metadata": {},
   "outputs": [
    {
     "name": "stdout",
     "output_type": "stream",
     "text": [
      "'data.frame':\t22869 obs. of  12 variables:\n",
      " $ activity_period            : int  202012 202012 202012 202012 202012 202012 202012 202012 202012 202012 ...\n",
      " $ operating_airline          : chr  \"United Airlines\" \"United Airlines\" \"United Airlines\" \"United Airlines\" ...\n",
      " $ operating_airline_iata_code: chr  \"UA\" \"UA\" \"UA\" \"UA\" ...\n",
      " $ published_airline          : chr  \"United Airlines\" \"United Airlines\" \"United Airlines\" \"United Airlines\" ...\n",
      " $ published_airline_iata_code: chr  \"UA\" \"UA\" \"UA\" \"UA\" ...\n",
      " $ geo_summary                : chr  \"Domestic\" \"Domestic\" \"International\" \"International\" ...\n",
      " $ geo_region                 : chr  \"US\" \"US\" \"Asia\" \"Asia\" ...\n",
      " $ activity_type_code         : chr  \"Enplaned\" \"Thru / Transit\" \"Deplaned\" \"Enplaned\" ...\n",
      " $ price_category_code        : chr  \"Other\" \"Other\" \"Other\" \"Other\" ...\n",
      " $ terminal                   : chr  \"Terminal 3\" \"Terminal 3\" \"International\" \"International\" ...\n",
      " $ boarding_area              : chr  \"F\" \"F\" \"G\" \"G\" ...\n",
      " $ passenger_count            : int  117260 61 12763 16050 2733 2878 3913 3587 11735 585 ...\n"
     ]
    }
   ],
   "source": [
    "# loading the data\n",
    "data(\"sfo_passengers\")\n",
    "str(sfo_passengers)\n"
   ]
  },
  {
   "cell_type": "code",
   "execution_count": 4,
   "id": "3f5570e6",
   "metadata": {},
   "outputs": [],
   "source": [
    "## Transforming the activity_period column in dataset into a Date format\n",
    "df <- sfo_passengers %>% mutate(Date = as.Date(paste(substr(sfo_passengers$activity_period, 1,4), \n",
    "                                                     substr(sfo_passengers$activity_period, 5,6), \n",
    "                                                     \"01\", sep =\"/\"))) "
   ]
  },
  {
   "cell_type": "code",
   "execution_count": 5,
   "id": "4c1515a0",
   "metadata": {},
   "outputs": [
    {
     "data": {
      "text/html": [
       "<table class=\"dataframe\">\n",
       "<caption>A tibble: 6 × 2</caption>\n",
       "<thead>\n",
       "\t<tr><th scope=col>Date</th><th scope=col>passengers</th></tr>\n",
       "\t<tr><th scope=col>&lt;date&gt;</th><th scope=col>&lt;int&gt;</th></tr>\n",
       "</thead>\n",
       "<tbody>\n",
       "\t<tr><td>2005-07-01</td><td>3225769</td></tr>\n",
       "\t<tr><td>2005-08-01</td><td>3195866</td></tr>\n",
       "\t<tr><td>2005-09-01</td><td>2740553</td></tr>\n",
       "\t<tr><td>2005-10-01</td><td>2770715</td></tr>\n",
       "\t<tr><td>2005-11-01</td><td>2617333</td></tr>\n",
       "\t<tr><td>2005-12-01</td><td>2671797</td></tr>\n",
       "</tbody>\n",
       "</table>\n"
      ],
      "text/latex": [
       "A tibble: 6 × 2\n",
       "\\begin{tabular}{ll}\n",
       " Date & passengers\\\\\n",
       " <date> & <int>\\\\\n",
       "\\hline\n",
       "\t 2005-07-01 & 3225769\\\\\n",
       "\t 2005-08-01 & 3195866\\\\\n",
       "\t 2005-09-01 & 2740553\\\\\n",
       "\t 2005-10-01 & 2770715\\\\\n",
       "\t 2005-11-01 & 2617333\\\\\n",
       "\t 2005-12-01 & 2671797\\\\\n",
       "\\end{tabular}\n"
      ],
      "text/markdown": [
       "\n",
       "A tibble: 6 × 2\n",
       "\n",
       "| Date &lt;date&gt; | passengers &lt;int&gt; |\n",
       "|---|---|\n",
       "| 2005-07-01 | 3225769 |\n",
       "| 2005-08-01 | 3195866 |\n",
       "| 2005-09-01 | 2740553 |\n",
       "| 2005-10-01 | 2770715 |\n",
       "| 2005-11-01 | 2617333 |\n",
       "| 2005-12-01 | 2671797 |\n",
       "\n"
      ],
      "text/plain": [
       "  Date       passengers\n",
       "1 2005-07-01 3225769   \n",
       "2 2005-08-01 3195866   \n",
       "3 2005-09-01 2740553   \n",
       "4 2005-10-01 2770715   \n",
       "5 2005-11-01 2617333   \n",
       "6 2005-12-01 2671797   "
      ]
     },
     "metadata": {},
     "output_type": "display_data"
    },
    {
     "name": "stdout",
     "output_type": "stream",
     "text": [
      "tibble[,2] [186 x 2] (S3: tbl_df/tbl/data.frame)\n",
      " $ Date      : Date[1:186], format: \"2005-07-01\" \"2005-08-01\" ...\n",
      " $ passengers: int [1:186] 3225769 3195866 2740553 2770715 2617333 2671797 2448889 2223024 2708778 2773293 ...\n"
     ]
    }
   ],
   "source": [
    "## Transforming the dataset into a time series format by grouping the passenger by the date variable\n",
    "df <- df %>% group_by(Date) %>%  summarise(passengers = sum(passenger_count), .groups = \"drop\")\n",
    "head(df) \n",
    "str(df)\n",
    "df$passengers <- as.numeric(df$passengers)"
   ]
  },
  {
   "cell_type": "code",
   "execution_count": 75,
   "id": "96133c88",
   "metadata": {},
   "outputs": [
    {
     "data": {
      "image/png": "[encoded data removed]",
      "text/plain": [
       "Plot with title \"Time Series Plot\""
      ]
     },
     "metadata": {
      "image/png": {
       "height": 420,
       "width": 420
      }
     },
     "output_type": "display_data"
    }
   ],
   "source": [
    "## Time Series plot for the whole Data\n",
    "plot(df, type = \"l\", xlab = \"Date\", ylab = \"Number of Passengers\", main = \"Time Series Plot\")\n",
    "points(df, pch = 16, cex = 0.5)"
   ]
  },
  {
   "cell_type": "code",
   "execution_count": 54,
   "id": "189e0451",
   "metadata": {},
   "outputs": [],
   "source": [
    "## pre_Covid data\n",
    "df_precovid <- subset(df, Date<'2020-01-01')"
   ]
  },
  {
   "cell_type": "code",
   "execution_count": 55,
   "id": "f19d4f14",
   "metadata": {},
   "outputs": [
    {
     "data": {
      "image/png": "[encoded data removed]",
      "text/plain": [
       "Plot with title \"Time Series Plot(Pre-Covid)\""
      ]
     },
     "metadata": {
      "image/png": {
       "height": 420,
       "width": 420
      }
     },
     "output_type": "display_data"
    }
   ],
   "source": [
    "## Plotting the pre-Covid Data\n",
    "plot(df_precovid, type = \"l\", xlab = \"Date\", ylab = \"Number of Passengers\", main = \"Time Series Plot(Pre-Covid)\")\n",
    "points(df_precovid, pch = 16, cex = 0.5)\n"
   ]
  },
  {
   "cell_type": "code",
   "execution_count": 56,
   "id": "393f86cb",
   "metadata": {},
   "outputs": [],
   "source": [
    "## Transforming passengers Time Series into Time Series object\n",
    "passengers <- ts(df_precovid$passengers, start = c(2005, 7), frequency = 12)"
   ]
  },
  {
   "cell_type": "code",
   "execution_count": 57,
   "id": "ad14f8eb",
   "metadata": {},
   "outputs": [
    {
     "data": {
      "image/png": "[encoded data removed]",
      "text/plain": [
       "plot without title"
      ]
     },
     "metadata": {
      "image/png": {
       "height": 420,
       "width": 420
      }
     },
     "output_type": "display_data"
    }
   ],
   "source": [
    "## Checking for Seasonal and trend componenets\n",
    "plot(decompose(passengers))"
   ]
  },
  {
   "cell_type": "code",
   "execution_count": 58,
   "id": "62395bda",
   "metadata": {},
   "outputs": [
    {
     "data": {
      "image/png": "[encoded data removed]",
      "text/plain": [
       "plot without title"
      ]
     },
     "metadata": {
      "image/png": {
       "height": 420,
       "width": 420
      }
     },
     "output_type": "display_data"
    }
   ],
   "source": [
    "## using the boxplot to see if there is any seasonal effects\n",
    "boxplot(passengers~cycle(passengers))\n"
   ]
  },
  {
   "cell_type": "markdown",
   "id": "1a5ecb65",
   "metadata": {},
   "source": [
    "## Now, we will check the stationary Status of the primary SFO passenger data"
   ]
  },
  {
   "cell_type": "code",
   "execution_count": 59,
   "id": "3337ead3",
   "metadata": {
    "scrolled": false
   },
   "outputs": [
    {
     "data": {
      "image/png": "[encoded data removed]",
      "text/plain": [
       "Plot with title \"ACF Plot\""
      ]
     },
     "metadata": {
      "image/png": {
       "height": 420,
       "width": 420
      }
     },
     "output_type": "display_data"
    }
   ],
   "source": [
    "## ACF plot\n",
    "Acf(passengers, main = \"ACF Plot\",lag.max = 50)"
   ]
  },
  {
   "cell_type": "code",
   "execution_count": 60,
   "id": "f9adc83b",
   "metadata": {},
   "outputs": [
    {
     "data": {
      "text/plain": [
       "\n",
       "\tAugmented Dickey-Fuller Test\n",
       "\n",
       "data:  passengers\n",
       "Dickey-Fuller = -2.0849, Lag order = 12, p-value = 0.5408\n",
       "alternative hypothesis: stationary\n"
      ]
     },
     "metadata": {},
     "output_type": "display_data"
    }
   ],
   "source": [
    "## Dickey-Fuller Test\n",
    "adf.test(passengers, alternative =\"stationary\", k=12)\n"
   ]
  },
  {
   "cell_type": "code",
   "execution_count": 64,
   "id": "e606b080",
   "metadata": {},
   "outputs": [
    {
     "data": {
      "image/png": "[encoded data removed]",
      "text/plain": [
       "plot without title"
      ]
     },
     "metadata": {
      "image/png": {
       "height": 420,
       "width": 420
      }
     },
     "output_type": "display_data"
    }
   ],
   "source": [
    "## Plotting the passengers_differenced data\n",
    "passengers_differenced <- diff(passengers)\n",
    "plot(passengers_differenced)\n"
   ]
  },
  {
   "cell_type": "code",
   "execution_count": 63,
   "id": "186a47a7",
   "metadata": {},
   "outputs": [
    {
     "data": {
      "text/plain": [
       "\n",
       "\tAugmented Dickey-Fuller Test\n",
       "\n",
       "data:  passengers_differenced\n",
       "Dickey-Fuller = -3.4519, Lag order = 12, p-value = 0.04893\n",
       "alternative hypothesis: stationary\n"
      ]
     },
     "metadata": {},
     "output_type": "display_data"
    },
    {
     "data": {
      "image/png": "[encoded data removed]",
      "text/plain": [
       "Plot with title \"PACF Plot-Differenced\""
      ]
     },
     "metadata": {
      "image/png": {
       "height": 420,
       "width": 420
      }
     },
     "output_type": "display_data"
    }
   ],
   "source": [
    "## ACF and PACF and Dickey-Fuller test for differenced data\n",
    "par(mfrow = c(1,2))\n",
    "Acf(passengers_differenced, main = \"ACF Plot-Differenced\",lag.max = 50)\n",
    "Acf(passengers_differenced, type = \"partial\", main = \"PACF Plot-Differenced\",lag.max = 50)\n",
    "adf.test(passengers_differenced, alternative =\"stationary\", k=12)"
   ]
  },
  {
   "cell_type": "code",
   "execution_count": 65,
   "id": "f63e76db",
   "metadata": {},
   "outputs": [
    {
     "data": {
      "image/png": "[encoded data removed]",
      "text/plain": [
       "plot without title"
      ]
     },
     "metadata": {
      "image/png": {
       "height": 420,
       "width": 420
      }
     },
     "output_type": "display_data"
    }
   ],
   "source": [
    "## Plotting the passengers_differenced data with lag12\n",
    "passengers_monthly_differenced<- diff(passengers_differenced , lag = 12)\n",
    "plot(passengers_monthly_differenced)"
   ]
  },
  {
   "cell_type": "code",
   "execution_count": 66,
   "id": "b50b1971",
   "metadata": {},
   "outputs": [
    {
     "data": {
      "text/plain": [
       "\n",
       "\tAugmented Dickey-Fuller Test\n",
       "\n",
       "data:  passengers_monthly_differenced\n",
       "Dickey-Fuller = -5.2462, Lag order = 12, p-value = 0.01\n",
       "alternative hypothesis: stationary\n"
      ]
     },
     "metadata": {},
     "output_type": "display_data"
    },
    {
     "data": {
      "image/png": "[encoded data removed]",
      "text/plain": [
       "Plot with title \"PACF Plot-Differenced\""
      ]
     },
     "metadata": {
      "image/png": {
       "height": 420,
       "width": 420
      }
     },
     "output_type": "display_data"
    }
   ],
   "source": [
    "## ACF and PACF for differenced data with lag12\n",
    "par(mfrow = c(1,2))\n",
    "Acf(passengers_monthly_differenced, main = \"ACF Plot-Differenced\",lag.max = 50)\n",
    "Acf(passengers_monthly_differenced, type = \"partial\", main = \"PACF Plot-Differenced\",lag.max = 50)\n",
    "adf.test(passengers_monthly_differenced, alternative =\"stationary\", k=12)"
   ]
  },
  {
   "cell_type": "markdown",
   "id": "6f2d4ea4",
   "metadata": {},
   "source": [
    "# 2. Model Fitting and forecasting"
   ]
  },
  {
   "cell_type": "code",
   "execution_count": 68,
   "id": "efdad288",
   "metadata": {},
   "outputs": [],
   "source": [
    "## Dividing dataset into train and test sets\n",
    "train <- df_precovid[1:150, ]\n",
    "test <- df_precovid[151:174, ]\n",
    "\n",
    "## Converting data to Time Series Object\n",
    "train_ts <- ts(train$passengers, start = c(2005, 7), frequency = 12)\n",
    "test_ts <- ts(test$passengers, start = c(2018, 1), frequency = 12)\n"
   ]
  },
  {
   "cell_type": "code",
   "execution_count": 69,
   "id": "bad459fa",
   "metadata": {},
   "outputs": [],
   "source": [
    "## Fitting Models\n",
    "\n",
    "### Holt-Winters additive model\n",
    "fit_hw_additive <- hw(train_ts,seasonal=\"additive\")\n",
    "\n",
    "### Holt-Winters multiplicative model\n",
    "fit_hw_multiplicative <- hw(train_ts,seasonal=\"multiplicative\")\n",
    "\n",
    "### ARIMA model\n",
    "fit_ARIMA <- auto.arima(train_ts)"
   ]
  },
  {
   "cell_type": "markdown",
   "id": "01a0a63c",
   "metadata": {},
   "source": [
    "Here, we are going to check our models status:"
   ]
  },
  {
   "cell_type": "code",
   "execution_count": 70,
   "id": "6d4a9ead",
   "metadata": {},
   "outputs": [
    {
     "name": "stdout",
     "output_type": "stream",
     "text": [
      "\n",
      "\tLjung-Box test\n",
      "\n",
      "data:  Residuals from Holt-Winters' additive method\n",
      "Q* = 54.26, df = 4, p-value = 4.643e-11\n",
      "\n",
      "Model df: 16.   Total lags used: 20\n",
      "\n"
     ]
    },
    {
     "data": {
      "image/png": "[encoded data removed]",
      "text/plain": [
       "plot without title"
      ]
     },
     "metadata": {
      "image/png": {
       "height": 420,
       "width": 420
      }
     },
     "output_type": "display_data"
    }
   ],
   "source": [
    "## Holt-Winters additive model with lag 20\n",
    "checkresiduals(fit_hw_additive, lag = 20)"
   ]
  },
  {
   "cell_type": "code",
   "execution_count": 74,
   "id": "d8716346",
   "metadata": {},
   "outputs": [
    {
     "name": "stdout",
     "output_type": "stream",
     "text": [
      "\n",
      "\tLjung-Box test\n",
      "\n",
      "data:  Residuals from Holt-Winters' multiplicative method\n",
      "Q* = 66.97, df = 34, p-value = 0.0006282\n",
      "\n",
      "Model df: 16.   Total lags used: 50\n",
      "\n"
     ]
    },
    {
     "data": {
      "image/png": "[encoded data removed]",
      "text/plain": [
       "plot without title"
      ]
     },
     "metadata": {
      "image/png": {
       "height": 420,
       "width": 420
      }
     },
     "output_type": "display_data"
    }
   ],
   "source": [
    "## Holt-Winters multiplicative model with lag 50\n",
    "checkresiduals(fit_hw_multiplicative, lag = 50)"
   ]
  },
  {
   "cell_type": "code",
   "execution_count": 76,
   "id": "e9fbb5d9",
   "metadata": {},
   "outputs": [
    {
     "name": "stdout",
     "output_type": "stream",
     "text": [
      "\n",
      "\tLjung-Box test\n",
      "\n",
      "data:  Residuals from ARIMA(1,1,1)(0,1,1)[12]\n",
      "Q* = 28.071, df = 7, p-value = 0.0002135\n",
      "\n",
      "Model df: 3.   Total lags used: 10\n",
      "\n"
     ]
    },
    {
     "data": {
      "image/png": "[encoded data removed]",
      "text/plain": [
       "plot without title"
      ]
     },
     "metadata": {
      "image/png": {
       "height": 420,
       "width": 420
      }
     },
     "output_type": "display_data"
    }
   ],
   "source": [
    "## ARIMA model with lag 10\n",
    "checkresiduals(fit_ARIMA, lag = 10)"
   ]
  },
  {
   "cell_type": "code",
   "execution_count": 78,
   "id": "e26228f3",
   "metadata": {},
   "outputs": [
    {
     "data": {
      "text/plain": [
       "\n",
       "z test of coefficients:\n",
       "\n",
       "      Estimate Std. Error  z value  Pr(>|z|)    \n",
       "ar1   0.644760   0.102609   6.2837 3.307e-10 ***\n",
       "ma1  -0.918834   0.062049 -14.8083 < 2.2e-16 ***\n",
       "sma1 -0.522980   0.085853  -6.0916 1.118e-09 ***\n",
       "---\n",
       "Signif. codes:  0 '***' 0.001 '**' 0.01 '*' 0.05 '.' 0.1 ' ' 1\n"
      ]
     },
     "metadata": {},
     "output_type": "display_data"
    }
   ],
   "source": [
    "## Coefficient test for ARIMA model\n",
    "library(lmtest)\n",
    "coeftest(fit_ARIMA)"
   ]
  },
  {
   "cell_type": "code",
   "execution_count": 79,
   "id": "9fbab43c",
   "metadata": {},
   "outputs": [
    {
     "data": {
      "text/html": [
       "<style>\n",
       ".list-inline {list-style: none; margin:0; padding: 0}\n",
       ".list-inline>li {display: inline-block}\n",
       ".list-inline>li:not(:last-child)::after {content: \"\\00b7\"; padding: 0 .5ex}\n",
       "</style>\n",
       "<ol class=list-inline><li>0.104684158864557</li><li>0.159219326303483</li><li>0.136233799183455</li><li>0.14808211176379</li><li>0.160493660828719</li><li>0.216781017911457</li><li>0.236212966398554</li><li>0.318000616866744</li><li>0.382507637860702</li><li>0.239564529521445</li><li>0.283348776689326</li><li>0.308764102621182</li><li>0.358208086610702</li><li>0.234087661169808</li><li>0.239418833570275</li><li>0.297399141783029</li><li>0.185476170079588</li><li>0.218806846751256</li><li>0.269429986050273</li><li>0.281306024630089</li><li>0.208547015677467</li></ol>\n"
      ],
      "text/latex": [
       "\\begin{enumerate*}\n",
       "\\item 0.104684158864557\n",
       "\\item 0.159219326303483\n",
       "\\item 0.136233799183455\n",
       "\\item 0.14808211176379\n",
       "\\item 0.160493660828719\n",
       "\\item 0.216781017911457\n",
       "\\item 0.236212966398554\n",
       "\\item 0.318000616866744\n",
       "\\item 0.382507637860702\n",
       "\\item 0.239564529521445\n",
       "\\item 0.283348776689326\n",
       "\\item 0.308764102621182\n",
       "\\item 0.358208086610702\n",
       "\\item 0.234087661169808\n",
       "\\item 0.239418833570275\n",
       "\\item 0.297399141783029\n",
       "\\item 0.185476170079588\n",
       "\\item 0.218806846751256\n",
       "\\item 0.269429986050273\n",
       "\\item 0.281306024630089\n",
       "\\item 0.208547015677467\n",
       "\\end{enumerate*}\n"
      ],
      "text/markdown": [
       "1. 0.104684158864557\n",
       "2. 0.159219326303483\n",
       "3. 0.136233799183455\n",
       "4. 0.14808211176379\n",
       "5. 0.160493660828719\n",
       "6. 0.216781017911457\n",
       "7. 0.236212966398554\n",
       "8. 0.318000616866744\n",
       "9. 0.382507637860702\n",
       "10. 0.239564529521445\n",
       "11. 0.283348776689326\n",
       "12. 0.308764102621182\n",
       "13. 0.358208086610702\n",
       "14. 0.234087661169808\n",
       "15. 0.239418833570275\n",
       "16. 0.297399141783029\n",
       "17. 0.185476170079588\n",
       "18. 0.218806846751256\n",
       "19. 0.269429986050273\n",
       "20. 0.281306024630089\n",
       "21. 0.208547015677467\n",
       "\n",
       "\n"
      ],
      "text/plain": [
       " [1] 0.1046842 0.1592193 0.1362338 0.1480821 0.1604937 0.2167810 0.2362130\n",
       " [8] 0.3180006 0.3825076 0.2395645 0.2833488 0.3087641 0.3582081 0.2340877\n",
       "[15] 0.2394188 0.2973991 0.1854762 0.2188068 0.2694300 0.2813060 0.2085470"
      ]
     },
     "metadata": {},
     "output_type": "display_data"
    },
    {
     "data": {
      "image/png": "[encoded data removed]",
      "text/plain": [
       "plot without title"
      ]
     },
     "metadata": {
      "image/png": {
       "height": 420,
       "width": 420
      }
     },
     "output_type": "display_data"
    }
   ],
   "source": [
    "# conditional heteroscedasticity for ARIMA model\n",
    "library(TSA)\n",
    "McLeod.Li.test(fit_ARIMA)$p.value"
   ]
  },
  {
   "cell_type": "code",
   "execution_count": 83,
   "id": "908995f7",
   "metadata": {},
   "outputs": [
    {
     "data": {
      "image/png": "[encoded data removed]",
      "text/plain": [
       "Plot with title \"Forecasts from ARIMA(1,1,1)(0,1,1)[12]\""
      ]
     },
     "metadata": {
      "image/png": {
       "height": 420,
       "width": 420
      }
     },
     "output_type": "display_data"
    }
   ],
   "source": [
    "## plotting forcasts for the next 24 month based on the models that we created\n",
    "par(mfrow = c(3,1))\n",
    "plot(forecast(fit_hw_additive,h=24))\n",
    "plot(forecast(fit_hw_multiplicative,h=24))\n",
    "plot(forecast(fit_ARIMA,h=24))"
   ]
  },
  {
   "cell_type": "code",
   "execution_count": 81,
   "id": "74bdc9b8",
   "metadata": {},
   "outputs": [],
   "source": [
    "## Storing forcasted data in suitable variables\n",
    "pred_hw_additive <- forecast(fit_hw_additive,h=24)\n",
    "pred_hw_multiplicative <- forecast(fit_hw_multiplicative,h=24)\n",
    "pred_ARIMA <- forecast(fit_ARIMA,h=24)"
   ]
  },
  {
   "cell_type": "markdown",
   "id": "f321ac6b",
   "metadata": {},
   "source": [
    "# 3. Comparing forcasted data and the real data in the prediction period"
   ]
  },
  {
   "cell_type": "markdown",
   "id": "a1b344be",
   "metadata": {},
   "source": [
    "## Comparing ARIMA model prediction with actual data"
   ]
  },
  {
   "cell_type": "code",
   "execution_count": 84,
   "id": "90b5d9f5",
   "metadata": {
    "scrolled": false
   },
   "outputs": [
    {
     "data": {
      "image/png": "[encoded data removed]",
      "text/plain": [
       "plot without title"
      ]
     },
     "metadata": {
      "image/png": {
       "height": 420,
       "width": 420
      }
     },
     "output_type": "display_data"
    }
   ],
   "source": [
    "train_ts <- window(train_ts,start=2005)\n",
    "autoplot(train_ts) +\n",
    "  autolayer(test_ts, series=\"real data\", PI=FALSE) +\n",
    "  autolayer(pred_ARIMA, series=\"Arima\", PI=FALSE)+\n",
    "  xlab(\"Year\") +\n",
    "  ylab(\"Passengers\") +\n",
    "  ggtitle(\"Comparing the predictions with the real data - SARIMA\") +\n",
    "  theme(plot.title = element_text(hjust =0.5))+\n",
    "  guides(colour=guide_legend(title=\"Forecast\"))"
   ]
  },
  {
   "cell_type": "markdown",
   "id": "d065cb51",
   "metadata": {},
   "source": [
    "## Comparing Holt-Winters multiplicative model prediction with actual data"
   ]
  },
  {
   "cell_type": "code",
   "execution_count": 33,
   "id": "ae7965f8",
   "metadata": {},
   "outputs": [
    {
     "data": {
      "image/png": "[encoded data removed]",
      "text/plain": [
       "plot without title"
      ]
     },
     "metadata": {
      "image/png": {
       "height": 420,
       "width": 420
      }
     },
     "output_type": "display_data"
    }
   ],
   "source": [
    "autoplot(train_ts) +\n",
    "  autolayer(pred_hw_multiplicative, series=\"HW multiplicative forecasts\", PI=FALSE) +\n",
    "  autolayer(test_ts, series=\"real data\", PI=FALSE) +\n",
    "  xlab(\"Year\") +\n",
    "  ylab(\"Passengers\") +\n",
    "  ggtitle(\"Comparing the predictions with the real data - HW multiplicative\") +\n",
    "  theme(plot.title = element_text(hjust =0.5))+\n",
    "  guides(colour=guide_legend(title=\"Forecast\"))"
   ]
  },
  {
   "cell_type": "markdown",
   "id": "a9d0acee",
   "metadata": {},
   "source": [
    "## Comparing Holt-Winters additive model prediction with actual data"
   ]
  },
  {
   "cell_type": "code",
   "execution_count": 87,
   "id": "9b41eea9",
   "metadata": {
    "scrolled": false
   },
   "outputs": [
    {
     "data": {
      "image/png": "[encoded data removed]",
      "text/plain": [
       "plot without title"
      ]
     },
     "metadata": {
      "image/png": {
       "height": 420,
       "width": 420
      }
     },
     "output_type": "display_data"
    }
   ],
   "source": [
    "autoplot(train_ts) +\n",
    "  autolayer(pred_hw_additive, series=\"HW additive forecasts\", PI=FALSE ) +\n",
    "  autolayer(test_ts, series=\"real data\", PI=FALSE) +\n",
    "  xlab(\"Year\") +\n",
    "  ylab(\"Passengers\") +\n",
    "  ggtitle(\"Comparing the predictions with the real data - HW additive\") +\n",
    "  theme(plot.title = element_text(hjust =0.5))+\n",
    "  guides(colour=guide_legend(title=\"Forecast\"))"
   ]
  },
  {
   "cell_type": "markdown",
   "id": "95ce8852",
   "metadata": {},
   "source": [
    "## Comparing all three models prediction with actual data"
   ]
  },
  {
   "cell_type": "code",
   "execution_count": 35,
   "id": "58ea7bf4",
   "metadata": {},
   "outputs": [
    {
     "data": {
      "image/png": "[encoded data removed]",
      "text/plain": [
       "plot without title"
      ]
     },
     "metadata": {
      "image/png": {
       "height": 420,
       "width": 420
      }
     },
     "output_type": "display_data"
    }
   ],
   "source": [
    "  autolayer(pred_hw_additive, series=\"HW additive forecasts\", PI=FALSE ) +\n",
    "  autolayer(pred_hw_multiplicative, series=\"HW multiplicative forecasts\", PI=FALSE) +\n",
    "  autolayer(test_ts, series=\"real data\", PI=FALSE) +\n",
    "  autolayer(pred_ARIMA, series=\"Arima\", PI=FALSE)+\n",
    "  xlab(\"Year\") +\n",
    "  ylab(\"Passengers\") +\n",
    "  ggtitle(\"Comparing the predictions with the real data\") +\n",
    "  theme(plot.title = element_text(hjust =0.5))+\n",
    "  guides(colour=guide_legend(title=\"Forecast\"))"
   ]
  },
  {
   "cell_type": "markdown",
   "id": "228487d6",
   "metadata": {},
   "source": [
    "## Caluclating and comparing Error Sum of Squares (SSE) of the models"
   ]
  },
  {
   "cell_type": "code",
   "execution_count": 94,
   "id": "4ac98476",
   "metadata": {},
   "outputs": [
    {
     "name": "stdout",
     "output_type": "stream",
     "text": [
      "[1] \"Holt-Winters additive model SSE is:\"\n"
     ]
    },
    {
     "data": {
      "text/html": [
       "1376111049714.45"
      ],
      "text/latex": [
       "1376111049714.45"
      ],
      "text/markdown": [
       "1376111049714.45"
      ],
      "text/plain": [
       "[1] 1.376111e+12"
      ]
     },
     "metadata": {},
     "output_type": "display_data"
    },
    {
     "name": "stdout",
     "output_type": "stream",
     "text": [
      "[1] \"Holt-Winters multiplicative model SSE is:\"\n"
     ]
    },
    {
     "data": {
      "text/html": [
       "4002840178196.5"
      ],
      "text/latex": [
       "4002840178196.5"
      ],
      "text/markdown": [
       "4002840178196.5"
      ],
      "text/plain": [
       "[1] 4.00284e+12"
      ]
     },
     "metadata": {},
     "output_type": "display_data"
    },
    {
     "name": "stdout",
     "output_type": "stream",
     "text": [
      "[1] \"ARIMA model SSE is:\"\n"
     ]
    },
    {
     "data": {
      "text/html": [
       "2173271110628.33"
      ],
      "text/latex": [
       "2173271110628.33"
      ],
      "text/markdown": [
       "2173271110628.33"
      ],
      "text/plain": [
       "[1] 2.173271e+12"
      ]
     },
     "metadata": {},
     "output_type": "display_data"
    }
   ],
   "source": [
    "## Holt-Winters additive model SSE\n",
    "e_hw_additive= pred_hw_additive$mean - test$passengers\n",
    "SSE_hw_additive <- sum(e_hw_additive^2)\n",
    "\n",
    "## Holt-Winters multiplicative model SSE\n",
    "e_hw_multiplicative= pred_hw_multiplicative$mean - test$passengers\n",
    "SSE_hw_multiplicative <- sum(e_hw_multiplicative^2)\n",
    "\n",
    "## ARIMA model SSE\n",
    "e_ARIMA= pred_ARIMA$mean - test$passengers\n",
    "SSE_ARIMA <- sum(e_ARIMA^2)\n",
    "\n",
    "print('Holt-Winters additive model SSE is:')\n",
    "SSE_hw_additive\n",
    "\n",
    "print('Holt-Winters multiplicative model SSE is:')\n",
    "SSE_hw_multiplicative\n",
    "\n",
    "print('ARIMA model SSE is:')\n",
    "SSE_ARIMA"
   ]
  },
  {
   "cell_type": "markdown",
   "id": "508a795f",
   "metadata": {},
   "source": [
    "# 4. One-Step-Ahead forecast"
   ]
  },
  {
   "cell_type": "code",
   "execution_count": 96,
   "id": "6b68b49b",
   "metadata": {},
   "outputs": [],
   "source": [
    "## Spilliting data to train and test subsets for one step forcast for 24 months\n",
    "train <- df_precovid[1:150, ]\n",
    "test <- df_precovid[151:174, ]\n",
    "\n",
    "## Converting the train and test sets to Time-Series-Object\n",
    "train_ts <- ts(train$passengers, start = c(2005, 7), frequency = 12)\n",
    "test_ts <- ts(test$passengers, start = c(2018, 1), frequency = 12)"
   ]
  },
  {
   "cell_type": "markdown",
   "id": "39166208",
   "metadata": {},
   "source": [
    "## Holt-Winters Additive Model"
   ]
  },
  {
   "cell_type": "code",
   "execution_count": 97,
   "id": "46fda217",
   "metadata": {},
   "outputs": [
    {
     "data": {
      "text/html": [
       "<table class=\"dataframe\">\n",
       "<caption>A data.frame: 24 × 2</caption>\n",
       "<thead>\n",
       "\t<tr><th scope=col>Actual Data</th><th scope=col>Prediction</th></tr>\n",
       "\t<tr><th scope=col>&lt;dbl&gt;</th><th scope=col>&lt;dbl&gt;</th></tr>\n",
       "</thead>\n",
       "<tbody>\n",
       "\t<tr><td>4190367</td><td>4365802</td></tr>\n",
       "\t<tr><td>3882181</td><td>3961629</td></tr>\n",
       "\t<tr><td>4674035</td><td>4489840</td></tr>\n",
       "\t<tr><td>4713183</td><td>4682001</td></tr>\n",
       "\t<tr><td>5025595</td><td>4963097</td></tr>\n",
       "\t<tr><td>5427144</td><td>5255144</td></tr>\n",
       "\t<tr><td>5692572</td><td>5564173</td></tr>\n",
       "\t<tr><td>5545859</td><td>5690269</td></tr>\n",
       "\t<tr><td>4649100</td><td>5034822</td></tr>\n",
       "\t<tr><td>4861782</td><td>4853041</td></tr>\n",
       "\t<tr><td>4508606</td><td>4542338</td></tr>\n",
       "\t<tr><td>4576449</td><td>4612826</td></tr>\n",
       "\t<tr><td>4156821</td><td>4172987</td></tr>\n",
       "\t<tr><td>3752763</td><td>3892356</td></tr>\n",
       "\t<tr><td>4599189</td><td>4638868</td></tr>\n",
       "\t<tr><td>4692941</td><td>4676862</td></tr>\n",
       "\t<tr><td>5008001</td><td>4998994</td></tr>\n",
       "\t<tr><td>5466688</td><td>5379892</td></tr>\n",
       "\t<tr><td>5612312</td><td>5653225</td></tr>\n",
       "\t<tr><td>5742437</td><td>5490318</td></tr>\n",
       "\t<tr><td>4471408</td><td>4796501</td></tr>\n",
       "\t<tr><td>4824559</td><td>4847359</td></tr>\n",
       "\t<tr><td>4370463</td><td>4499533</td></tr>\n",
       "\t<tr><td>4720992</td><td>4521559</td></tr>\n",
       "</tbody>\n",
       "</table>\n"
      ],
      "text/latex": [
       "A data.frame: 24 × 2\n",
       "\\begin{tabular}{ll}\n",
       " Actual Data & Prediction\\\\\n",
       " <dbl> & <dbl>\\\\\n",
       "\\hline\n",
       "\t 4190367 & 4365802\\\\\n",
       "\t 3882181 & 3961629\\\\\n",
       "\t 4674035 & 4489840\\\\\n",
       "\t 4713183 & 4682001\\\\\n",
       "\t 5025595 & 4963097\\\\\n",
       "\t 5427144 & 5255144\\\\\n",
       "\t 5692572 & 5564173\\\\\n",
       "\t 5545859 & 5690269\\\\\n",
       "\t 4649100 & 5034822\\\\\n",
       "\t 4861782 & 4853041\\\\\n",
       "\t 4508606 & 4542338\\\\\n",
       "\t 4576449 & 4612826\\\\\n",
       "\t 4156821 & 4172987\\\\\n",
       "\t 3752763 & 3892356\\\\\n",
       "\t 4599189 & 4638868\\\\\n",
       "\t 4692941 & 4676862\\\\\n",
       "\t 5008001 & 4998994\\\\\n",
       "\t 5466688 & 5379892\\\\\n",
       "\t 5612312 & 5653225\\\\\n",
       "\t 5742437 & 5490318\\\\\n",
       "\t 4471408 & 4796501\\\\\n",
       "\t 4824559 & 4847359\\\\\n",
       "\t 4370463 & 4499533\\\\\n",
       "\t 4720992 & 4521559\\\\\n",
       "\\end{tabular}\n"
      ],
      "text/markdown": [
       "\n",
       "A data.frame: 24 × 2\n",
       "\n",
       "| Actual Data &lt;dbl&gt; | Prediction &lt;dbl&gt; |\n",
       "|---|---|\n",
       "| 4190367 | 4365802 |\n",
       "| 3882181 | 3961629 |\n",
       "| 4674035 | 4489840 |\n",
       "| 4713183 | 4682001 |\n",
       "| 5025595 | 4963097 |\n",
       "| 5427144 | 5255144 |\n",
       "| 5692572 | 5564173 |\n",
       "| 5545859 | 5690269 |\n",
       "| 4649100 | 5034822 |\n",
       "| 4861782 | 4853041 |\n",
       "| 4508606 | 4542338 |\n",
       "| 4576449 | 4612826 |\n",
       "| 4156821 | 4172987 |\n",
       "| 3752763 | 3892356 |\n",
       "| 4599189 | 4638868 |\n",
       "| 4692941 | 4676862 |\n",
       "| 5008001 | 4998994 |\n",
       "| 5466688 | 5379892 |\n",
       "| 5612312 | 5653225 |\n",
       "| 5742437 | 5490318 |\n",
       "| 4471408 | 4796501 |\n",
       "| 4824559 | 4847359 |\n",
       "| 4370463 | 4499533 |\n",
       "| 4720992 | 4521559 |\n",
       "\n"
      ],
      "text/plain": [
       "   Actual Data Prediction\n",
       "1  4190367     4365802   \n",
       "2  3882181     3961629   \n",
       "3  4674035     4489840   \n",
       "4  4713183     4682001   \n",
       "5  5025595     4963097   \n",
       "6  5427144     5255144   \n",
       "7  5692572     5564173   \n",
       "8  5545859     5690269   \n",
       "9  4649100     5034822   \n",
       "10 4861782     4853041   \n",
       "11 4508606     4542338   \n",
       "12 4576449     4612826   \n",
       "13 4156821     4172987   \n",
       "14 3752763     3892356   \n",
       "15 4599189     4638868   \n",
       "16 4692941     4676862   \n",
       "17 5008001     4998994   \n",
       "18 5466688     5379892   \n",
       "19 5612312     5653225   \n",
       "20 5742437     5490318   \n",
       "21 4471408     4796501   \n",
       "22 4824559     4847359   \n",
       "23 4370463     4499533   \n",
       "24 4720992     4521559   "
      ]
     },
     "metadata": {},
     "output_type": "display_data"
    }
   ],
   "source": [
    "## Creating two empty vectors\n",
    "p <- numeric(length(1:24))\n",
    "e <- numeric(length(1:24))\n",
    "\n",
    "## One Step Ahead Forcasting with HW additive model\n",
    "for(i in 1:24){\n",
    "  train <- subset(head(df_precovid,174-(25-i)))\n",
    "  test <- subset(tail(df_precovid,25-i))\n",
    "  y <- ts(train$passengers, start = c(2005, 7), frequency = 12)\n",
    "  fit_hw_additive <- hw(y,seasonal=\"additive\")\n",
    "  pred_hw_additive <- forecast(fit_hw_additive,h=1)\n",
    "  p[i] <- pred_hw_additive$mean\n",
    "  e[i] <- p[i]-test$passengers[1]\n",
    "}\n",
    "\n",
    "## One Step Ahead Forcast SSE for HW additive model\n",
    "SSE2_hw_additive <- sum(e^2)\n",
    "\n",
    "## Comparing forcasted data points with actual data points\n",
    "test <- subset(tail(df_precovid,24))\n",
    "comparison_table_hw_additive <- data.frame(test$passengers, p)\n",
    "colnames(comparison_table_hw_additive) <- c('Actual Data','Prediction')\n",
    "\n",
    "comparison_table_hw_additive\n"
   ]
  },
  {
   "cell_type": "code",
   "execution_count": 98,
   "id": "8c1d1575",
   "metadata": {},
   "outputs": [
    {
     "data": {
      "text/html": [
       "<table class=\"dataframe\">\n",
       "<caption>A data.frame: 24 × 2</caption>\n",
       "<thead>\n",
       "\t<tr><th scope=col>Actual Data</th><th scope=col>Prediction</th></tr>\n",
       "\t<tr><th scope=col>&lt;dbl&gt;</th><th scope=col>&lt;dbl&gt;</th></tr>\n",
       "</thead>\n",
       "<tbody>\n",
       "\t<tr><td>4190367</td><td>4276260</td></tr>\n",
       "\t<tr><td>3882181</td><td>3879177</td></tr>\n",
       "\t<tr><td>4674035</td><td>4725783</td></tr>\n",
       "\t<tr><td>4713183</td><td>4733004</td></tr>\n",
       "\t<tr><td>5025595</td><td>5112586</td></tr>\n",
       "\t<tr><td>5427144</td><td>5389374</td></tr>\n",
       "\t<tr><td>5692572</td><td>5673056</td></tr>\n",
       "\t<tr><td>5545859</td><td>5724091</td></tr>\n",
       "\t<tr><td>4649100</td><td>4893695</td></tr>\n",
       "\t<tr><td>4861782</td><td>4940645</td></tr>\n",
       "\t<tr><td>4508606</td><td>4471103</td></tr>\n",
       "\t<tr><td>4576449</td><td>4623707</td></tr>\n",
       "\t<tr><td>4156821</td><td>4177094</td></tr>\n",
       "\t<tr><td>3752763</td><td>3819257</td></tr>\n",
       "\t<tr><td>4599189</td><td>4645956</td></tr>\n",
       "\t<tr><td>4692941</td><td>4613558</td></tr>\n",
       "\t<tr><td>5008001</td><td>5012875</td></tr>\n",
       "\t<tr><td>5466688</td><td>5348329</td></tr>\n",
       "\t<tr><td>5612312</td><td>5668821</td></tr>\n",
       "\t<tr><td>5742437</td><td>5628015</td></tr>\n",
       "\t<tr><td>4471408</td><td>4928226</td></tr>\n",
       "\t<tr><td>4824559</td><td>4859216</td></tr>\n",
       "\t<tr><td>4370463</td><td>4456206</td></tr>\n",
       "\t<tr><td>4720992</td><td>4505040</td></tr>\n",
       "</tbody>\n",
       "</table>\n"
      ],
      "text/latex": [
       "A data.frame: 24 × 2\n",
       "\\begin{tabular}{ll}\n",
       " Actual Data & Prediction\\\\\n",
       " <dbl> & <dbl>\\\\\n",
       "\\hline\n",
       "\t 4190367 & 4276260\\\\\n",
       "\t 3882181 & 3879177\\\\\n",
       "\t 4674035 & 4725783\\\\\n",
       "\t 4713183 & 4733004\\\\\n",
       "\t 5025595 & 5112586\\\\\n",
       "\t 5427144 & 5389374\\\\\n",
       "\t 5692572 & 5673056\\\\\n",
       "\t 5545859 & 5724091\\\\\n",
       "\t 4649100 & 4893695\\\\\n",
       "\t 4861782 & 4940645\\\\\n",
       "\t 4508606 & 4471103\\\\\n",
       "\t 4576449 & 4623707\\\\\n",
       "\t 4156821 & 4177094\\\\\n",
       "\t 3752763 & 3819257\\\\\n",
       "\t 4599189 & 4645956\\\\\n",
       "\t 4692941 & 4613558\\\\\n",
       "\t 5008001 & 5012875\\\\\n",
       "\t 5466688 & 5348329\\\\\n",
       "\t 5612312 & 5668821\\\\\n",
       "\t 5742437 & 5628015\\\\\n",
       "\t 4471408 & 4928226\\\\\n",
       "\t 4824559 & 4859216\\\\\n",
       "\t 4370463 & 4456206\\\\\n",
       "\t 4720992 & 4505040\\\\\n",
       "\\end{tabular}\n"
      ],
      "text/markdown": [
       "\n",
       "A data.frame: 24 × 2\n",
       "\n",
       "| Actual Data &lt;dbl&gt; | Prediction &lt;dbl&gt; |\n",
       "|---|---|\n",
       "| 4190367 | 4276260 |\n",
       "| 3882181 | 3879177 |\n",
       "| 4674035 | 4725783 |\n",
       "| 4713183 | 4733004 |\n",
       "| 5025595 | 5112586 |\n",
       "| 5427144 | 5389374 |\n",
       "| 5692572 | 5673056 |\n",
       "| 5545859 | 5724091 |\n",
       "| 4649100 | 4893695 |\n",
       "| 4861782 | 4940645 |\n",
       "| 4508606 | 4471103 |\n",
       "| 4576449 | 4623707 |\n",
       "| 4156821 | 4177094 |\n",
       "| 3752763 | 3819257 |\n",
       "| 4599189 | 4645956 |\n",
       "| 4692941 | 4613558 |\n",
       "| 5008001 | 5012875 |\n",
       "| 5466688 | 5348329 |\n",
       "| 5612312 | 5668821 |\n",
       "| 5742437 | 5628015 |\n",
       "| 4471408 | 4928226 |\n",
       "| 4824559 | 4859216 |\n",
       "| 4370463 | 4456206 |\n",
       "| 4720992 | 4505040 |\n",
       "\n"
      ],
      "text/plain": [
       "   Actual Data Prediction\n",
       "1  4190367     4276260   \n",
       "2  3882181     3879177   \n",
       "3  4674035     4725783   \n",
       "4  4713183     4733004   \n",
       "5  5025595     5112586   \n",
       "6  5427144     5389374   \n",
       "7  5692572     5673056   \n",
       "8  5545859     5724091   \n",
       "9  4649100     4893695   \n",
       "10 4861782     4940645   \n",
       "11 4508606     4471103   \n",
       "12 4576449     4623707   \n",
       "13 4156821     4177094   \n",
       "14 3752763     3819257   \n",
       "15 4599189     4645956   \n",
       "16 4692941     4613558   \n",
       "17 5008001     5012875   \n",
       "18 5466688     5348329   \n",
       "19 5612312     5668821   \n",
       "20 5742437     5628015   \n",
       "21 4471408     4928226   \n",
       "22 4824559     4859216   \n",
       "23 4370463     4456206   \n",
       "24 4720992     4505040   "
      ]
     },
     "metadata": {},
     "output_type": "display_data"
    }
   ],
   "source": [
    "## Creating two empty vectors\n",
    "p <- numeric(length(1:24))\n",
    "e <- numeric(length(1:24))\n",
    "\n",
    "## One Step Ahead Forcasting with HW multiplicative model\n",
    "for(i in 1:24){\n",
    "  train <- subset(head(df_precovid,174-(25-i)))\n",
    "  test <- subset(tail(df_precovid,25-i))\n",
    "  y <- ts(train$passengers, start = c(2005, 7), frequency = 12)\n",
    "  fit_hw_multiplicative <- hw(y,seasonal=\"multiplicative\")\n",
    "  pred_hw_multiplicative <- forecast(fit_hw_multiplicative,h=1)\n",
    "  p[i] <- pred_hw_multiplicative$mean\n",
    "  e[i] <- p[i]-test$passengers[1]\n",
    "}\n",
    "\n",
    "## One Step Ahead Forcast SSE for HW multiplicative model\n",
    "SSE2_hw_multiplicative <- sum(e^2)\n",
    "\n",
    "## Comparing forcasted data points with actual data points\n",
    "test <- subset(tail(df_precovid,24))\n",
    "comparison_table_hw_multiplicative <- data.frame(test$passengers, p)\n",
    "colnames(comparison_table_hw_multiplicative) <- c('Actual Data','Prediction')\n",
    "\n",
    "comparison_table_hw_multiplicative"
   ]
  },
  {
   "cell_type": "code",
   "execution_count": 99,
   "id": "3433ffeb",
   "metadata": {},
   "outputs": [
    {
     "data": {
      "text/html": [
       "<table class=\"dataframe\">\n",
       "<caption>A data.frame: 24 × 2</caption>\n",
       "<thead>\n",
       "\t<tr><th scope=col>Actual Data</th><th scope=col>Prediction</th></tr>\n",
       "\t<tr><th scope=col>&lt;dbl&gt;</th><th scope=col>&lt;dbl&gt;</th></tr>\n",
       "</thead>\n",
       "<tbody>\n",
       "\t<tr><td>4190367</td><td>4249069</td></tr>\n",
       "\t<tr><td>3882181</td><td>3877971</td></tr>\n",
       "\t<tr><td>4674035</td><td>4635498</td></tr>\n",
       "\t<tr><td>4713183</td><td>4728467</td></tr>\n",
       "\t<tr><td>5025595</td><td>5031609</td></tr>\n",
       "\t<tr><td>5427144</td><td>5390788</td></tr>\n",
       "\t<tr><td>5692572</td><td>5713695</td></tr>\n",
       "\t<tr><td>5545859</td><td>5701812</td></tr>\n",
       "\t<tr><td>4649100</td><td>4917261</td></tr>\n",
       "\t<tr><td>4861782</td><td>4838219</td></tr>\n",
       "\t<tr><td>4508606</td><td>4540234</td></tr>\n",
       "\t<tr><td>4576449</td><td>4617033</td></tr>\n",
       "\t<tr><td>4156821</td><td>4147095</td></tr>\n",
       "\t<tr><td>3752763</td><td>3830555</td></tr>\n",
       "\t<tr><td>4599189</td><td>4556417</td></tr>\n",
       "\t<tr><td>4692941</td><td>4637709</td></tr>\n",
       "\t<tr><td>5008001</td><td>5012575</td></tr>\n",
       "\t<tr><td>5466688</td><td>5410209</td></tr>\n",
       "\t<tr><td>5612312</td><td>5741030</td></tr>\n",
       "\t<tr><td>5742437</td><td>5580253</td></tr>\n",
       "\t<tr><td>4471408</td><td>4892169</td></tr>\n",
       "\t<tr><td>4824559</td><td>4813910</td></tr>\n",
       "\t<tr><td>4370463</td><td>4507048</td></tr>\n",
       "\t<tr><td>4720992</td><td>4522086</td></tr>\n",
       "</tbody>\n",
       "</table>\n"
      ],
      "text/latex": [
       "A data.frame: 24 × 2\n",
       "\\begin{tabular}{ll}\n",
       " Actual Data & Prediction\\\\\n",
       " <dbl> & <dbl>\\\\\n",
       "\\hline\n",
       "\t 4190367 & 4249069\\\\\n",
       "\t 3882181 & 3877971\\\\\n",
       "\t 4674035 & 4635498\\\\\n",
       "\t 4713183 & 4728467\\\\\n",
       "\t 5025595 & 5031609\\\\\n",
       "\t 5427144 & 5390788\\\\\n",
       "\t 5692572 & 5713695\\\\\n",
       "\t 5545859 & 5701812\\\\\n",
       "\t 4649100 & 4917261\\\\\n",
       "\t 4861782 & 4838219\\\\\n",
       "\t 4508606 & 4540234\\\\\n",
       "\t 4576449 & 4617033\\\\\n",
       "\t 4156821 & 4147095\\\\\n",
       "\t 3752763 & 3830555\\\\\n",
       "\t 4599189 & 4556417\\\\\n",
       "\t 4692941 & 4637709\\\\\n",
       "\t 5008001 & 5012575\\\\\n",
       "\t 5466688 & 5410209\\\\\n",
       "\t 5612312 & 5741030\\\\\n",
       "\t 5742437 & 5580253\\\\\n",
       "\t 4471408 & 4892169\\\\\n",
       "\t 4824559 & 4813910\\\\\n",
       "\t 4370463 & 4507048\\\\\n",
       "\t 4720992 & 4522086\\\\\n",
       "\\end{tabular}\n"
      ],
      "text/markdown": [
       "\n",
       "A data.frame: 24 × 2\n",
       "\n",
       "| Actual Data &lt;dbl&gt; | Prediction &lt;dbl&gt; |\n",
       "|---|---|\n",
       "| 4190367 | 4249069 |\n",
       "| 3882181 | 3877971 |\n",
       "| 4674035 | 4635498 |\n",
       "| 4713183 | 4728467 |\n",
       "| 5025595 | 5031609 |\n",
       "| 5427144 | 5390788 |\n",
       "| 5692572 | 5713695 |\n",
       "| 5545859 | 5701812 |\n",
       "| 4649100 | 4917261 |\n",
       "| 4861782 | 4838219 |\n",
       "| 4508606 | 4540234 |\n",
       "| 4576449 | 4617033 |\n",
       "| 4156821 | 4147095 |\n",
       "| 3752763 | 3830555 |\n",
       "| 4599189 | 4556417 |\n",
       "| 4692941 | 4637709 |\n",
       "| 5008001 | 5012575 |\n",
       "| 5466688 | 5410209 |\n",
       "| 5612312 | 5741030 |\n",
       "| 5742437 | 5580253 |\n",
       "| 4471408 | 4892169 |\n",
       "| 4824559 | 4813910 |\n",
       "| 4370463 | 4507048 |\n",
       "| 4720992 | 4522086 |\n",
       "\n"
      ],
      "text/plain": [
       "   Actual Data Prediction\n",
       "1  4190367     4249069   \n",
       "2  3882181     3877971   \n",
       "3  4674035     4635498   \n",
       "4  4713183     4728467   \n",
       "5  5025595     5031609   \n",
       "6  5427144     5390788   \n",
       "7  5692572     5713695   \n",
       "8  5545859     5701812   \n",
       "9  4649100     4917261   \n",
       "10 4861782     4838219   \n",
       "11 4508606     4540234   \n",
       "12 4576449     4617033   \n",
       "13 4156821     4147095   \n",
       "14 3752763     3830555   \n",
       "15 4599189     4556417   \n",
       "16 4692941     4637709   \n",
       "17 5008001     5012575   \n",
       "18 5466688     5410209   \n",
       "19 5612312     5741030   \n",
       "20 5742437     5580253   \n",
       "21 4471408     4892169   \n",
       "22 4824559     4813910   \n",
       "23 4370463     4507048   \n",
       "24 4720992     4522086   "
      ]
     },
     "metadata": {},
     "output_type": "display_data"
    }
   ],
   "source": [
    "## Creating two empty vectors\n",
    "p <- numeric(length(1:24))\n",
    "e <- numeric(length(1:24))\n",
    "\n",
    "## One Step Ahead Forcasting with ARIMA model\n",
    "for(i in 1:24){\n",
    "  train <- subset(head(df_precovid,174-(25-i)))\n",
    "  test <- subset(tail(df_precovid,25-i))\n",
    "  y <- ts(train$passengers, start = c(2005, 7), frequency = 12)\n",
    "  fit_ARIMA <- auto.arima(y)\n",
    "  pred_ARIMA <- forecast(fit_ARIMA,h=1)\n",
    "  p[i] <- pred_ARIMA$mean\n",
    "  e[i] <- p[i]-test$passengers[1]\n",
    "}\n",
    "\n",
    "## One Step Ahead Forcast SSE for ARIMA model\n",
    "SSE2_ARIMA <- sum(e^2)\n",
    "\n",
    "## Comparing forcasted data points with actual data points\n",
    "test <- subset(tail(df_precovid,24))\n",
    "comparison_table_ARIMA <- data.frame(test$passengers, p)\n",
    "colnames(comparison_table_ARIMA) <- c('Actual Data','Prediction')\n",
    "\n",
    "comparison_table_ARIMA"
   ]
  },
  {
   "cell_type": "markdown",
   "id": "ad4cdb52",
   "metadata": {},
   "source": [
    "Here, we will compare the SSE of One_Step_Ahead forcasting Models:"
   ]
  },
  {
   "cell_type": "code",
   "execution_count": 100,
   "id": "5febc74c",
   "metadata": {},
   "outputs": [
    {
     "name": "stdout",
     "output_type": "stream",
     "text": [
      "[1] \"Holt-Winters additive model SSE is:\"\n"
     ]
    },
    {
     "data": {
      "text/html": [
       "551210711264.366"
      ],
      "text/latex": [
       "551210711264.366"
      ],
      "text/markdown": [
       "551210711264.366"
      ],
      "text/plain": [
       "[1] 551210711264"
      ]
     },
     "metadata": {},
     "output_type": "display_data"
    },
    {
     "name": "stdout",
     "output_type": "stream",
     "text": [
      "[1] \"Holt-Winters multiplicative model SSE is:\"\n"
     ]
    },
    {
     "data": {
      "text/html": [
       "428795321804.026"
      ],
      "text/latex": [
       "428795321804.026"
      ],
      "text/markdown": [
       "428795321804.026"
      ],
      "text/plain": [
       "[1] 428795321804"
      ]
     },
     "metadata": {},
     "output_type": "display_data"
    },
    {
     "name": "stdout",
     "output_type": "stream",
     "text": [
      "[1] \"ARIMA model SSE is:\"\n"
     ]
    },
    {
     "data": {
      "text/html": [
       "398901899627.743"
      ],
      "text/latex": [
       "398901899627.743"
      ],
      "text/markdown": [
       "398901899627.743"
      ],
      "text/plain": [
       "[1] 398901899628"
      ]
     },
     "metadata": {},
     "output_type": "display_data"
    }
   ],
   "source": [
    "print('Holt-Winters additive model SSE is:')\n",
    "SSE2_hw_additive\n",
    "\n",
    "print('Holt-Winters multiplicative model SSE is:')\n",
    "SSE2_hw_multiplicative\n",
    "\n",
    "print('ARIMA model SSE is:')\n",
    "SSE2_ARIMA"
   ]
  },
  {
   "cell_type": "markdown",
   "id": "7e33464b",
   "metadata": {},
   "source": [
    "# 5. Prediction for after covid to see the covid effect on the passengers number"
   ]
  },
  {
   "cell_type": "code",
   "execution_count": 46,
   "id": "a52aa5f8",
   "metadata": {},
   "outputs": [
    {
     "data": {
      "image/png": "[encoded data removed]",
      "text/plain": [
       "plot without title"
      ]
     },
     "metadata": {
      "image/png": {
       "height": 420,
       "width": 420
      }
     },
     "output_type": "display_data"
    }
   ],
   "source": [
    "## Storing pre-covid and after-covid data to suitable variables\n",
    "df_precovid <- subset(df, Date<'2020-01-01')\n",
    "df_aftercovid  <- subset(df, Date >= '2020-01-01')\n",
    "\n",
    "## Converting pre-covid and after-covid data to Time Series Objects\n",
    "df_precovid <- ts(df_precovid$passengers, start = c(2005, 7), frequency = 12)\n",
    "df_aftercovid <- ts(df_aftercovid$passengers, start = c(2020, 1), frequency = 12)\n",
    "\n",
    "## Fitting Holt-Winters Additive Model\n",
    "fit_hw_additive <- hw(df_precovid,seasonal=\"additive\")\n",
    "pred_hw_additive <- forecast(fit_hw_additive,h=12)\n",
    "\n",
    "## Comparing actualafter-covid data with the prediction based on pre-covid data\n",
    "df_precovid <- window(df_precovid,start=2005)\n",
    "autoplot(df_precovid) +\n",
    "  autolayer(df_aftercovid, series=\"real data\", PI=FALSE) +\n",
    "  autolayer(pred_hw_additive, series=\"HW additive forecasts\", PI=FALSE )+\n",
    "  xlab(\"Year\") +\n",
    "  ylab(\"Passengers\") +\n",
    "  ggtitle(\"Comparing the predictions with the real data for after covid - Additive Model\") +\n",
    "  theme(plot.title = element_text(hjust =0.5))+\n",
    "  guides(colour=guide_legend(title=\"Forecast\"))\n",
    "\n"
   ]
  }
 ],
 "metadata": {
  "kernelspec": {
   "display_name": "R",
   "language": "R",
   "name": "ir"
  },
  "language_info": {
   "codemirror_mode": "r",
   "file_extension": ".r",
   "mimetype": "text/x-r-source",
   "name": "R",
   "pygments_lexer": "r",
   "version": "4.0.4"
  }
 },
 "nbformat": 4,
 "nbformat_minor": 5
}
